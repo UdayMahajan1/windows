{
 "cells": [
  {
   "cell_type": "markdown",
   "id": "21da7b7b",
   "metadata": {},
   "source": [
    "## Euclidean Algorithm"
   ]
  },
  {
   "cell_type": "code",
   "execution_count": null,
   "id": "3992fc19",
   "metadata": {},
   "outputs": [],
   "source": [
    "!pip install numpy\n",
    "import numpy as np"
   ]
  },
  {
   "cell_type": "code",
   "execution_count": 5,
   "id": "4910bf1f",
   "metadata": {},
   "outputs": [
    {
     "name": "stdout",
     "output_type": "stream",
     "text": [
      "3\n"
     ]
    }
   ],
   "source": [
    "def euclidean (a,b) :  \n",
    "    if a%b == 0 : \n",
    "        return b\n",
    "    else : \n",
    "        return euclidean(b, a%b)\n",
    "    \n",
    "print(euclidean(27, 15))"
   ]
  },
  {
   "cell_type": "code",
   "execution_count": 26,
   "id": "6c3ebe62",
   "metadata": {},
   "outputs": [
    {
     "name": "stdout",
     "output_type": "stream",
     "text": [
      "The GCD of 35 and 15 is: 5\n",
      "x = 1, y = -2 satisfy 35*1 + 15*-2 = 5\n"
     ]
    }
   ],
   "source": [
    "def extended_gcd(a, b):\n",
    "    # Base case\n",
    "    if a == 0:\n",
    "        return b, 0, 1\n",
    "\n",
    "    gcd, x1, y1 = extended_gcd(b % a, a)\n",
    "\n",
    "    # Update x and y using results of recursive call\n",
    "    x = y1 - (b // a) * x1\n",
    "    y = x1\n",
    "\n",
    "    return gcd, x, y\n",
    "\n",
    "# Example usage\n",
    "a = 35\n",
    "b = 15\n",
    "gcd, x, y = extended_gcd(a, b)\n",
    "print(f\"The GCD of {a} and {b} is:\", gcd)\n",
    "print(f\"x = {x}, y = {y} satisfy {a}*{x} + {b}*{y} = {gcd}\")\n"
   ]
  },
  {
   "cell_type": "markdown",
   "id": "4c235da6",
   "metadata": {},
   "source": [
    "## Vernam Cipher"
   ]
  },
  {
   "cell_type": "code",
   "execution_count": 27,
   "id": "f0d197ac",
   "metadata": {},
   "outputs": [
    {
     "name": "stdout",
     "output_type": "stream",
     "text": [
      "Encrypted: ;\u0000\u000f\u001e",
      "\n",
      "XK2\u0016\u0001\t\u0007S\n",
      "Decrypted: Hello, World!\n"
     ]
    }
   ],
   "source": [
    "def vernam_encrypt(plaintext, key):\n",
    "    ciphertext = ''\n",
    "    for i in range(len(plaintext)):\n",
    "        # Convert characters to ASCII and perform XOR with key\n",
    "        cipher_char = chr(ord(plaintext[i]) ^ ord(key[i % len(key)]))\n",
    "        ciphertext += cipher_char\n",
    "    return ciphertext\n",
    "\n",
    "\n",
    "# Example usage\n",
    "plaintext = \"Hello, World!\"\n",
    "key = \"secretkey\"\n",
    "\n",
    "# Encrypt plaintext\n",
    "encrypted_text = vernam_encrypt(plaintext, key)\n",
    "print(\"Encrypted:\", encrypted_text)\n",
    "\n"
   ]
  },
  {
   "cell_type": "markdown",
   "id": "a2e08786",
   "metadata": {},
   "source": [
    "## Caesar Cipher"
   ]
  },
  {
   "cell_type": "code",
   "execution_count": 14,
   "id": "bbd821c8",
   "metadata": {},
   "outputs": [
    {
     "name": "stdout",
     "output_type": "stream",
     "text": [
      "Encrypted: Khoor, Zruog!\n"
     ]
    }
   ],
   "source": [
    "def caesar_cipher_encrypt(text, shift):\n",
    "    encrypted_text = ''\n",
    "    for char in text:\n",
    "        if char.isalpha():  # Check if the character is a letter\n",
    "            shifted = ord(char) + shift\n",
    "            if char.islower():\n",
    "                if shifted > ord('z'):\n",
    "                    shifted -= 26\n",
    "                elif shifted < ord('a'):\n",
    "                    shifted += 26\n",
    "            elif char.isupper():\n",
    "                if shifted > ord('Z'):\n",
    "                    shifted -= 26\n",
    "                elif shifted < ord('A'):\n",
    "                    shifted += 26\n",
    "            encrypted_text += chr(shifted)\n",
    "        else:\n",
    "            encrypted_text += char  # Maintain non-alphabetic characters\n",
    "    return encrypted_text\n",
    "\n",
    "# Example usage\n",
    "plaintext = \"Hello, World!\"\n",
    "shift = 3\n",
    "\n",
    "# Encrypt plaintext\n",
    "encrypted_text = caesar_cipher_encrypt(plaintext, shift)\n",
    "print(\"Encrypted:\", encrypted_text)\n"
   ]
  },
  {
   "cell_type": "markdown",
   "id": "6afc27a1",
   "metadata": {},
   "source": [
    "## Rail Fence Cipher"
   ]
  },
  {
   "cell_type": "code",
   "execution_count": 15,
   "id": "fe42d593",
   "metadata": {},
   "outputs": [
    {
     "name": "stdout",
     "output_type": "stream",
     "text": [
      "Encrypted: Ho!el,Wrdl \n"
     ]
    }
   ],
   "source": [
    "def railfence_encrypt(text, rails):\n",
    "    fence = [['' for _ in range(len(text))] for _ in range(rails)]\n",
    "    direction = -1  # Direction of movement along the fence\n",
    "    row = 0\n",
    "\n",
    "    for char in text:\n",
    "        fence[row][text.index(char)] = char\n",
    "        if row == 0 or row == rails - 1:\n",
    "            direction *= -1  # Change direction at the top or bottom rail\n",
    "        row += direction\n",
    "\n",
    "    encrypted_text = ''\n",
    "    for i in range(rails):\n",
    "        encrypted_text += ''.join(fence[i])  # Concatenate characters row by row\n",
    "\n",
    "    return encrypted_text\n",
    "\n",
    "plaintext = \"Hello, World!\"\n",
    "rails = 3\n",
    "\n",
    "# Encrypt plaintext\n",
    "encrypted_text = railfence_encrypt(plaintext, rails)\n",
    "print(\"Encrypted:\", encrypted_text)"
   ]
  },
  {
   "cell_type": "markdown",
   "id": "2596e8e2",
   "metadata": {},
   "source": [
    "## Columnar Transposition"
   ]
  },
  {
   "cell_type": "code",
   "execution_count": 23,
   "id": "5ac138c4",
   "metadata": {},
   "outputs": [
    {
     "name": "stdout",
     "output_type": "stream",
     "text": [
      "[1, 0, 2]\n",
      "Encrypted: eoWlHl r!l,od\n"
     ]
    }
   ],
   "source": [
    "def columnar_encrypt(plaintext, key):\n",
    "    key_order = sorted(range(len(key)), key=lambda k: key[k])  # Order of columns based on key\n",
    "    columns = [''] * len(key)\n",
    "\n",
    "    # Fill columns with plaintext based on the key order\n",
    "    for i, char in enumerate(plaintext):\n",
    "        columns[key_order[i % len(key)]] += char\n",
    "\n",
    "    encrypted_text = ''.join(columns)  # Concatenate columns to form ciphertext\n",
    "    return encrypted_text\n",
    "\n",
    "plaintext = \"Hello, World!\"\n",
    "key = \"KEY\"\n",
    "\n",
    "# Encrypt plaintext\n",
    "encrypted_text = columnar_encrypt(plaintext, key)\n",
    "print(\"Encrypted:\", encrypted_text)"
   ]
  },
  {
   "cell_type": "markdown",
   "id": "a94950a8",
   "metadata": {},
   "source": [
    "## Row Transposition"
   ]
  },
  {
   "cell_type": "code",
   "execution_count": 24,
   "id": "191af53d",
   "metadata": {},
   "outputs": [
    {
     "name": "stdout",
     "output_type": "stream",
     "text": [
      "[1, 0, 3, 2]\n",
      "Encrypted: e,rHoo!lWdl l\n"
     ]
    }
   ],
   "source": [
    "def row_transposition_encrypt(plaintext, key):\n",
    "    key_order = sorted(range(len(key)), key=lambda k: key[k])  # Order of rows based on key\n",
    "    rows = [''] * len(key)\n",
    "\n",
    "    # Fill rows with plaintext based on the key order\n",
    "    for i, char in enumerate(plaintext):\n",
    "        rows[i % len(key)] += char\n",
    "\n",
    "    encrypted_text = ''.join([rows[i] for i in key_order])  # Concatenate rows based on key order\n",
    "    return encrypted_text\n",
    "\n",
    "plaintext = \"Hello, World!\"\n",
    "key = [2, 1, 4, 3]  # Key represents the order of rows\n",
    "\n",
    "# Encrypt plaintext\n",
    "encrypted_text = row_transposition_encrypt(plaintext, key)\n",
    "print(\"Encrypted:\", encrypted_text)"
   ]
  },
  {
   "cell_type": "markdown",
   "id": "e4614218",
   "metadata": {},
   "source": [
    "## Playfair Cipher"
   ]
  },
  {
   "cell_type": "code",
   "execution_count": 42,
   "id": "346ffb61",
   "metadata": {},
   "outputs": [
    {
     "name": "stdout",
     "output_type": "stream",
     "text": [
      "Key text: Monarchy\n",
      "Plain Text: instruments\n",
      "CipherText: gatlmzclrqtx\n"
     ]
    }
   ],
   "source": [
    "# Python program to implement Playfair Cipher\n",
    "\n",
    "# Function to convert the string to lowercase\n",
    "\n",
    "\n",
    "def toLowerCase(text):\n",
    "\treturn text.lower()\n",
    "\n",
    "# Function to remove all spaces in a string\n",
    "\n",
    "\n",
    "def removeSpaces(text):\n",
    "\tnewText = \"\"\n",
    "\tfor i in text:\n",
    "\t\tif i == \" \":\n",
    "\t\t\tcontinue\n",
    "\t\telse:\n",
    "\t\t\tnewText = newText + i\n",
    "\treturn newText\n",
    "\n",
    "# Function to group 2 elements of a string\n",
    "# as a list element\n",
    "\n",
    "\n",
    "def Diagraph(text):\n",
    "\tDiagraph = []\n",
    "\tgroup = 0\n",
    "\tfor i in range(2, len(text), 2):\n",
    "\t\tDiagraph.append(text[group:i])\n",
    "\n",
    "\t\tgroup = i\n",
    "\tDiagraph.append(text[group:])\n",
    "\treturn Diagraph\n",
    "\n",
    "# Function to fill a letter in a string element\n",
    "# If 2 letters in the same string matches\n",
    "\n",
    "\n",
    "def FillerLetter(text):\n",
    "\tk = len(text)\n",
    "\tif k % 2 == 0:\n",
    "\t\tfor i in range(0, k, 2):\n",
    "\t\t\tif text[i] == text[i+1]:\n",
    "\t\t\t\tnew_word = text[0:i+1] + str('x') + text[i+1:]\n",
    "\t\t\t\tnew_word = FillerLetter(new_word)\n",
    "\t\t\t\tbreak\n",
    "\t\t\telse:\n",
    "\t\t\t\tnew_word = text\n",
    "\telse:\n",
    "\t\tfor i in range(0, k-1, 2):\n",
    "\t\t\tif text[i] == text[i+1]:\n",
    "\t\t\t\tnew_word = text[0:i+1] + str('x') + text[i+1:]\n",
    "\t\t\t\tnew_word = FillerLetter(new_word)\n",
    "\t\t\t\tbreak\n",
    "\t\t\telse:\n",
    "\t\t\t\tnew_word = text\n",
    "\treturn new_word\n",
    "\n",
    "\n",
    "list1 = ['a', 'b', 'c', 'd', 'e', 'f', 'g', 'h', 'i', 'k', 'l', 'm',\n",
    "\t\t'n', 'o', 'p', 'q', 'r', 's', 't', 'u', 'v', 'w', 'x', 'y', 'z']\n",
    "\n",
    "# Function to generate the 5x5 key square matrix\n",
    "\n",
    "\n",
    "def generateKeyTable(word, list1):\n",
    "\tkey_letters = []\n",
    "\tfor i in word:\n",
    "\t\tif i not in key_letters:\n",
    "\t\t\tkey_letters.append(i)\n",
    "\n",
    "\tcompElements = []\n",
    "\tfor i in key_letters:\n",
    "\t\tif i not in compElements:\n",
    "\t\t\tcompElements.append(i)\n",
    "\tfor i in list1:\n",
    "\t\tif i not in compElements:\n",
    "\t\t\tcompElements.append(i)\n",
    "\n",
    "\tmatrix = []\n",
    "\twhile compElements != []:\n",
    "\t\tmatrix.append(compElements[:5])\n",
    "\t\tcompElements = compElements[5:]\n",
    "\n",
    "\treturn matrix\n",
    "\n",
    "\n",
    "def search(mat, element):\n",
    "\tfor i in range(5):\n",
    "\t\tfor j in range(5):\n",
    "\t\t\tif(mat[i][j] == element):\n",
    "\t\t\t\treturn i, j\n",
    "\n",
    "\n",
    "def encrypt_RowRule(matr, e1r, e1c, e2r, e2c):\n",
    "\tchar1 = ''\n",
    "\tif e1c == 4:\n",
    "\t\tchar1 = matr[e1r][0]\n",
    "\telse:\n",
    "\t\tchar1 = matr[e1r][e1c+1]\n",
    "\n",
    "\tchar2 = ''\n",
    "\tif e2c == 4:\n",
    "\t\tchar2 = matr[e2r][0]\n",
    "\telse:\n",
    "\t\tchar2 = matr[e2r][e2c+1]\n",
    "\n",
    "\treturn char1, char2\n",
    "\n",
    "\n",
    "def encrypt_ColumnRule(matr, e1r, e1c, e2r, e2c):\n",
    "\tchar1 = ''\n",
    "\tif e1r == 4:\n",
    "\t\tchar1 = matr[0][e1c]\n",
    "\telse:\n",
    "\t\tchar1 = matr[e1r+1][e1c]\n",
    "\n",
    "\tchar2 = ''\n",
    "\tif e2r == 4:\n",
    "\t\tchar2 = matr[0][e2c]\n",
    "\telse:\n",
    "\t\tchar2 = matr[e2r+1][e2c]\n",
    "\n",
    "\treturn char1, char2\n",
    "\n",
    "\n",
    "def encrypt_RectangleRule(matr, e1r, e1c, e2r, e2c):\n",
    "\tchar1 = ''\n",
    "\tchar1 = matr[e1r][e2c]\n",
    "\n",
    "\tchar2 = ''\n",
    "\tchar2 = matr[e2r][e1c]\n",
    "\n",
    "\treturn char1, char2\n",
    "\n",
    "\n",
    "def encryptByPlayfairCipher(Matrix, plainList):\n",
    "\tCipherText = []\n",
    "\tfor i in range(0, len(plainList)):\n",
    "\t\tc1 = 0\n",
    "\t\tc2 = 0\n",
    "\t\tele1_x, ele1_y = search(Matrix, plainList[i][0])\n",
    "\t\tele2_x, ele2_y = search(Matrix, plainList[i][1])\n",
    "\n",
    "\t\tif ele1_x == ele2_x:\n",
    "\t\t\tc1, c2 = encrypt_RowRule(Matrix, ele1_x, ele1_y, ele2_x, ele2_y)\n",
    "\t\t\t# Get 2 letter cipherText\n",
    "\t\telif ele1_y == ele2_y:\n",
    "\t\t\tc1, c2 = encrypt_ColumnRule(Matrix, ele1_x, ele1_y, ele2_x, ele2_y)\n",
    "\t\telse:\n",
    "\t\t\tc1, c2 = encrypt_RectangleRule(\n",
    "\t\t\t\tMatrix, ele1_x, ele1_y, ele2_x, ele2_y)\n",
    "\n",
    "\t\tcipher = c1 + c2\n",
    "\t\tCipherText.append(cipher)\n",
    "\treturn CipherText\n",
    "\n",
    "\n",
    "text_Plain = 'instruments'\n",
    "text_Plain = removeSpaces(toLowerCase(text_Plain))\n",
    "PlainTextList = Diagraph(FillerLetter(text_Plain))\n",
    "if len(PlainTextList[-1]) != 2:\n",
    "\tPlainTextList[-1] = PlainTextList[-1]+'z'\n",
    "\n",
    "key = \"Monarchy\"\n",
    "print(\"Key text:\", key)\n",
    "key = toLowerCase(key)\n",
    "Matrix = generateKeyTable(key, list1)\n",
    "\n",
    "print(\"Plain Text:\", text_Plain)\n",
    "CipherList = encryptByPlayfairCipher(Matrix, PlainTextList)\n",
    "\n",
    "CipherText = \"\"\n",
    "for i in CipherList:\n",
    "\tCipherText += i\n",
    "print(\"CipherText:\", CipherText)\n"
   ]
  },
  {
   "cell_type": "markdown",
   "id": "087bb1f3",
   "metadata": {},
   "source": [
    "## RSA"
   ]
  },
  {
   "cell_type": "code",
   "execution_count": 54,
   "id": "4c5b25f2",
   "metadata": {},
   "outputs": [
    {
     "name": "stdout",
     "output_type": "stream",
     "text": [
      "Encrypted message is 1394\n",
      "Decrypted message is 89\n"
     ]
    }
   ],
   "source": [
    "from math import gcd\n",
    "\n",
    "# defining a function to perform RSA approch\n",
    "def RSA(p: int, q: int, message: int):\n",
    "    # calculating n\n",
    "    n = p * q\n",
    "\n",
    "    # calculating totient, t\n",
    "    t = (p - 1) * (q - 1)\n",
    "\n",
    "    # selecting public key, e\n",
    "    for i in range(2, t):\n",
    "        if gcd(i, t) == 1:\n",
    "            e = i\n",
    "            break\n",
    "    \n",
    "    # selecting private key, d\n",
    "    j = 0\n",
    "    while True:\n",
    "        if (j * e) % t == 1:\n",
    "            d = j\n",
    "            break\n",
    "        j += 1\n",
    "\n",
    "    # performing encryption\n",
    "    ct = (message ** e) % n\n",
    "    print(f\"Encrypted message is {ct}\")\n",
    "\n",
    "    # performing decryption\n",
    "    mes = (ct ** d) % n\n",
    "    print(f\"Decrypted message is {mes}\")\n",
    "\n",
    "# Testcase - 1\n",
    "RSA(p=53, q=59, message=89)\n"
   ]
  },
  {
   "cell_type": "markdown",
   "id": "c4ba9533",
   "metadata": {},
   "source": [
    "## RSA digital signature"
   ]
  },
  {
   "cell_type": "code",
   "execution_count": 9,
   "id": "0fbd3792",
   "metadata": {},
   "outputs": [
    {
     "name": "stdout",
     "output_type": "stream",
     "text": [
      "Alice has sent this message.\n"
     ]
    }
   ],
   "source": [
    "from math import gcd\n",
    "\n",
    "def RSA_digital_signature(p: int, q: int, message: int): \n",
    "    \n",
    "    N = p * q\n",
    "    t = (p-1) * (q-1) # calculating the totient function\n",
    "    \n",
    "    e,d = None, None\n",
    "    \n",
    "    for i in range (2, t) :\n",
    "        if gcd(i, t) == 1 : \n",
    "            e = i\n",
    "            break\n",
    "    \n",
    "    j = 1\n",
    "    while True: \n",
    "        if (j * e) % t == 1 : \n",
    "            d = j\n",
    "            break\n",
    "        j += 1\n",
    "    \n",
    "    sign = (message ** d) % N\n",
    "    verify = (sign ** e) % N \n",
    "    \n",
    "    if verify == message : \n",
    "        print(\"Alice has sent this message.\")\n",
    "    else : \n",
    "        print(\"Message is compromised.\")\n",
    "        \n",
    "RSA_digital_signature(p=53, q=59, message=89)"
   ]
  },
  {
   "cell_type": "markdown",
   "id": "5dced47d",
   "metadata": {},
   "source": [
    "## Diffie Hellman"
   ]
  },
  {
   "cell_type": "code",
   "execution_count": 6,
   "id": "b79ec0f5",
   "metadata": {},
   "outputs": [
    {
     "name": "stdout",
     "output_type": "stream",
     "text": [
      "Enter P : 11\n",
      "Enter The Primitive Root Of 11 : 7\n",
      "Enter The Private Key Of User 1 : 4\n",
      "Enter The Private Key Of User 2 : 6\n",
      "\n",
      "Secret Key For User 1 Is 3\n",
      "Secret Key For User 2 Is 3\n",
      "\n",
      "Keys Have Been Exchanged Successfully\n"
     ]
    }
   ],
   "source": [
    "# Diffie-Hellman Code\n",
    "\n",
    "\n",
    "def prime_checker(p):\n",
    "\t# Checks If the number entered is a Prime Number or not\n",
    "\tif p < 1:\n",
    "\t\treturn -1\n",
    "\telif p > 1:\n",
    "\t\tif p == 2:\n",
    "\t\t\treturn 1\n",
    "\t\tfor i in range(2, p):\n",
    "\t\t\tif p % i == 0:\n",
    "\t\t\t\treturn -1\n",
    "\t\t\treturn 1\n",
    "\n",
    "\n",
    "def primitive_check(g, p, L):\n",
    "\t# Checks If The Entered Number Is A Primitive Root Or Not\n",
    "\tfor i in range(1, p):\n",
    "\t\tL.append(pow(g, i) % p)\n",
    "\tfor i in range(1, p):\n",
    "\t\tif L.count(i) > 1:\n",
    "\t\t\tL.clear()\n",
    "\t\t\treturn -1\n",
    "\t\treturn 1\n",
    "\n",
    "\n",
    "l = []\n",
    "while 1:\n",
    "\tP = int(input(\"Enter P : \"))\n",
    "\tif prime_checker(P) == -1:\n",
    "\t\tprint(\"Number Is Not Prime, Please Enter Again!\")\n",
    "\t\tcontinue\n",
    "\tbreak\n",
    "\n",
    "while 1:\n",
    "\tG = int(input(f\"Enter The Primitive Root Of {P} : \"))\n",
    "\tif primitive_check(G, P, l) == -1:\n",
    "\t\tprint(f\"Number Is Not A Primitive Root Of {P}, Please Try Again!\")\n",
    "\t\tcontinue\n",
    "\tbreak\n",
    "\n",
    "# Private Keys\n",
    "x1, x2 = int(input(\"Enter The Private Key Of User 1 : \")), int(\n",
    "\tinput(\"Enter The Private Key Of User 2 : \"))\n",
    "while 1:\n",
    "\tif x1 >= P or x2 >= P:\n",
    "\t\tprint(f\"Private Key Of Both The Users Should Be Less Than {P}!\")\n",
    "\t\tcontinue\n",
    "\tbreak\n",
    "\n",
    "# Calculate Public Keys\n",
    "y1, y2 = pow(G, x1) % P, pow(G, x2) % P\n",
    "\n",
    "# Generate Secret Keys\n",
    "k1, k2 = pow(y2, x1) % P, pow(y1, x2) % P\n",
    "\n",
    "print(f\"\\nSecret Key For User 1 Is {k1}\\nSecret Key For User 2 Is {k2}\\n\")\n",
    "\n",
    "if k1 == k2:\n",
    "\tprint(\"Keys Have Been Exchanged Successfully\")\n",
    "else:\n",
    "\tprint(\"Keys Have Not Been Exchanged Successfully\")\n"
   ]
  },
  {
   "cell_type": "markdown",
   "id": "218207c6",
   "metadata": {},
   "source": [
    "## Diffie Hellman Key Exchange : Man in the middle"
   ]
  },
  {
   "cell_type": "code",
   "execution_count": 10,
   "id": "7f839764",
   "metadata": {},
   "outputs": [
    {
     "name": "stdout",
     "output_type": "stream",
     "text": [
      "Alice and Mallory share the same secret : 9b9e6de3b47a32736fc28e6102f2098b\n",
      "Bob and Mallory share the same secret : 8701be805e64f7f892b823c821453bdb\n"
     ]
    }
   ],
   "source": [
    "from random import getrandbits\n",
    "\n",
    "g = 2\n",
    "p = 0xF36E2495C4A214F8A498AC594894C19B\n",
    "bits = 128\n",
    "\n",
    "# Generate Alice's secret and public keys (a, A)\n",
    "a = getrandbits(bits)\n",
    "A = pow(g, a, p)\n",
    "\n",
    "# Generate Bob's secret and public keys (b, B)\n",
    "b = getrandbits(bits)\n",
    "B = pow(g, b, p)\n",
    "\n",
    "# Generate Mallory's secret and public keys (m, M)\n",
    "m = getrandbits(bits)\n",
    "M = pow(g, m, p)\n",
    "\n",
    "# Generate the shared secrets\n",
    "sam = pow(M, a, p)\n",
    "sma = pow(A, m, p)\n",
    "\n",
    "sbm = pow(M, b, p)\n",
    "smb = pow(B, m, p)\n",
    "\n",
    "if sam == sma:\n",
    "    print(\"Alice and Mallory share the same secret : {:x}\".format(sam))\n",
    "\n",
    "if sbm == smb:\n",
    "    print(\"Bob and Mallory share the same secret : {:x}\".format(sbm))"
   ]
  }
 ],
 "metadata": {
  "kernelspec": {
   "display_name": "Python 3 (ipykernel)",
   "language": "python",
   "name": "python3"
  },
  "language_info": {
   "codemirror_mode": {
    "name": "ipython",
    "version": 3
   },
   "file_extension": ".py",
   "mimetype": "text/x-python",
   "name": "python",
   "nbconvert_exporter": "python",
   "pygments_lexer": "ipython3",
   "version": "3.10.13"
  }
 },
 "nbformat": 4,
 "nbformat_minor": 5
}
